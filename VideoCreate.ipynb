{
 "cells": [
  {
   "cell_type": "code",
   "execution_count": 1,
   "metadata": {
    "id": "A_T4y6nknW3P"
   },
   "outputs": [],
   "source": [
    "# Import libraries and functions\n",
    "import cv2\n",
    "import os\n",
    "from os.path import isfile, join"
   ]
  },
  {
   "cell_type": "code",
   "execution_count": 2,
   "metadata": {
    "id": "W7vJSwKWnW3Y"
   },
   "outputs": [],
   "source": [
    "# Function to convert the enhanced image to video file\n",
    "def convert_frames_to_video(pathIn,pathOut,fps):\n",
    "    frame_array = []\n",
    "    files = [f for f in os.listdir(pathIn) if isfile(join(pathIn, f))]\n",
    "    #for sorting the file names properly\n",
    "    files.sort(key = lambda x: int(x[4:-4]))  #taking the numbers from the image name\n",
    " \n",
    "        \n",
    "    for i in range(len(files)):\n",
    "        filename=pathIn + files[i]\n",
    "        #reading each files\n",
    "        img = cv2.imread(filename)\n",
    "        height, width, layers = img.shape\n",
    "        size = (width,height)\n",
    "        print(filename)\n",
    "        #inserting the frames into an image array\n",
    "        frame_array.append(img)\n",
    " \n",
    "    out = cv2.VideoWriter(pathOut,cv2.VideoWriter_fourcc(*'DIVX'), fps, size) #four character code  \" DIVX\"\n",
    " \n",
    "    for i in range(len(frame_array)):\n",
    "        # writing to a image array\n",
    "        out.write(frame_array[i])\n",
    "    out.release()"
   ]
  },
  {
   "cell_type": "code",
   "execution_count": 3,
   "metadata": {
    "id": "4OHl8175nW3a",
    "outputId": "42367534-9d2b-44fb-b264-01b101e17742"
   },
   "outputs": [
    {
     "name": "stdout",
     "output_type": "stream",
     "text": [
      "data/output/cnno/melc0.jpg\n",
      "data/output/cnno/melc1.jpg\n",
      "data/output/cnno/melc2.jpg\n",
      "data/output/cnno/melc3.jpg\n",
      "data/output/cnno/melc4.jpg\n",
      "data/output/cnno/melc5.jpg\n",
      "data/output/cnno/melc6.jpg\n",
      "data/output/cnno/melc7.jpg\n",
      "data/output/cnno/melc8.jpg\n",
      "data/output/cnno/melc9.jpg\n",
      "data/output/cnno/melc10.jpg\n",
      "data/output/cnno/melc11.jpg\n",
      "data/output/cnno/melc12.jpg\n",
      "data/output/cnno/melc13.jpg\n",
      "data/output/cnno/melc14.jpg\n",
      "data/output/cnno/melc15.jpg\n",
      "data/output/cnno/melc16.jpg\n",
      "data/output/cnno/melc17.jpg\n",
      "data/output/cnno/melc18.jpg\n",
      "data/output/cnno/melc19.jpg\n",
      "data/output/cnno/melc20.jpg\n",
      "data/output/cnno/melc21.jpg\n",
      "data/output/cnno/melc22.jpg\n",
      "data/output/cnno/melc23.jpg\n",
      "data/output/cnno/melc24.jpg\n",
      "data/output/cnno/melc25.jpg\n",
      "data/output/cnno/melc26.jpg\n",
      "data/output/cnno/melc27.jpg\n",
      "data/output/cnno/melc28.jpg\n",
      "data/output/cnno/melc29.jpg\n",
      "data/output/cnno/melc30.jpg\n",
      "data/output/cnno/melc31.jpg\n"
     ]
    }
   ],
   "source": [
    "# Converting Enhanced to Video\n",
    "pathIn = 'data/output/cnno/'\n",
    "pathOut = 'data/output_videos/new.mp4'\n",
    "fps = 15.0\n",
    "convert_frames_to_video(pathIn, pathOut, fps)"
   ]
  },
  {
   "cell_type": "code",
   "execution_count": null,
   "metadata": {
    "id": "OuG5_eB4nW3e"
   },
   "outputs": [],
   "source": []
  },
  {
   "cell_type": "code",
   "execution_count": null,
   "metadata": {},
   "outputs": [],
   "source": []
  }
 ],
 "metadata": {
  "colab": {
   "name": "VideoCreate.ipynb",
   "provenance": []
  },
  "kernelspec": {
   "display_name": "Python 3",
   "language": "python",
   "name": "python3"
  },
  "language_info": {
   "codemirror_mode": {
    "name": "ipython",
    "version": 3
   },
   "file_extension": ".py",
   "mimetype": "text/x-python",
   "name": "python",
   "nbconvert_exporter": "python",
   "pygments_lexer": "ipython3",
   "version": "3.8.5"
  }
 },
 "nbformat": 4,
 "nbformat_minor": 1
}
