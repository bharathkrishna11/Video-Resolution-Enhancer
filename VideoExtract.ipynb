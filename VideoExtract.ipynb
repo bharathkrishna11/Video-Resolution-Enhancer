{
 "cells": [
  {
   "cell_type": "code",
   "execution_count": 1,
   "metadata": {},
   "outputs": [],
   "source": [
    "import cv2 \n",
    "import numpy as np\n",
    "import logging #logging module is loaded into notebook"
   ]
  },
  {
   "cell_type": "code",
   "execution_count": 2,
   "metadata": {
    "id": "UtfT1yghmjNF",
    "outputId": "36f3f5bc-b826-48d0-837a-55cf70139886",
    "scrolled": true
   },
   "outputs": [
    {
     "name": "stdout",
     "output_type": "stream",
     "text": [
      "Frame Extracted:  True\n",
      "Frame Extracted:  True\n",
      "Frame Extracted:  True\n",
      "Frame Extracted:  True\n",
      "Frame Extracted:  True\n",
      "Frame Extracted:  True\n",
      "Frame Extracted:  True\n",
      "Frame Extracted:  True\n",
      "Frame Extracted:  True\n",
      "Frame Extracted:  True\n",
      "Frame Extracted:  True\n",
      "Frame Extracted:  True\n",
      "Frame Extracted:  True\n",
      "Frame Extracted:  True\n",
      "Frame Extracted:  True\n",
      "Frame Extracted:  True\n",
      "Frame Extracted:  True\n",
      "Frame Extracted:  True\n",
      "Frame Extracted:  True\n",
      "Frame Extracted:  True\n",
      "Frame Extracted:  True\n",
      "Frame Extracted:  True\n",
      "Frame Extracted:  True\n",
      "Frame Extracted:  True\n",
      "Frame Extracted:  True\n",
      "Frame Extracted:  True\n",
      "Frame Extracted:  True\n",
      "Frame Extracted:  True\n",
      "Frame Extracted:  True\n",
      "Frame Extracted:  True\n",
      "Frame Extracted:  True\n",
      "Frame Extracted:  False\n"
     ]
    }
   ],
   "source": [
    "# Configure the log file.\n",
    "logging.basicConfig(filename='test.log', level=logging.DEBUG, format='%(asctime)s:%(levelname)s:%(message)s')\n",
    "\n",
    "# Read name of input file as 'file_name'.\n",
    "file_name = 'melc.3gp'\n",
    "\n",
    "# Read the video from path of file and file name using VideoCapture().\n",
    "try:\n",
    "    video = cv2.VideoCapture('data/input/' + file_name)\n",
    "except cv2.error as e:\n",
    "    logging.debug(\"Wrong file_name or path\")\n",
    "else:\n",
    "    logging.debug('{} video has been read'.format(file_name))   \n",
    "# Extract first frame of the video as 'picture' using read() and set flag as 'True'. \n",
    "flag, picture = video.read()\n",
    "# Initialize variable 'count' with 0. 'count' is used to set file name for each frame.\n",
    "count = 0 \n",
    "# Initialize variable 'frame_count' with 60. 'frame_count' is the maximum number of frames. \n",
    "frame_count = 60\n",
    "\n",
    "while flag:\n",
    "    # 'storing_name' is the name under which each frame will be stored after extraction.\n",
    "    storing_name = 'melc'+ str(count) + '.jpg'\n",
    "    cv2.imwrite('data/frames/' + storing_name , picture)\n",
    "    flag, picture = video.read()\n",
    "    # if number of frames extracted equals the maximum number of frames, break from execution.\n",
    "    if count == frame_count:\n",
    "        break\n",
    "    else:\n",
    "        print('Frame Extracted: ', flag)\n",
    "        # increment count variable.\n",
    "        count = count + 1"
   ]
  },
  {
   "cell_type": "code",
   "execution_count": 3,
   "metadata": {
    "id": "K8niwN40mjNJ",
    "outputId": "94c66a19-c255-4f99-e1f0-006abcf73696"
   },
   "outputs": [
    {
     "name": "stdout",
     "output_type": "stream",
     "text": [
      "Number of Total Frames :  32\n"
     ]
    }
   ],
   "source": [
    "print('Number of Total Frames : ', count)"
   ]
  },
  {
   "cell_type": "code",
   "execution_count": null,
   "metadata": {},
   "outputs": [],
   "source": []
  }
 ],
 "metadata": {
  "colab": {
   "name": "VideoExtract.ipynb",
   "provenance": []
  },
  "kernelspec": {
   "display_name": "Python 3",
   "language": "python",
   "name": "python3"
  },
  "language_info": {
   "codemirror_mode": {
    "name": "ipython",
    "version": 3
   },
   "file_extension": ".py",
   "mimetype": "text/x-python",
   "name": "python",
   "nbconvert_exporter": "python",
   "pygments_lexer": "ipython3",
   "version": "3.8.5"
  }
 },
 "nbformat": 4,
 "nbformat_minor": 1
}
